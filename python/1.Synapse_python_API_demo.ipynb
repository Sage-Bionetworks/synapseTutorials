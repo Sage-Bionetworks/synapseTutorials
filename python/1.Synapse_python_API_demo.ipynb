{
 "metadata": {
  "name": "",
  "signature": "sha256:8a3be0012eeab5aa97222a39bc7b9109afd77018005dd665388205189138a0c0"
 },
 "nbformat": 3,
 "nbformat_minor": 0,
 "worksheets": [
  {
   "cells": [
    {
     "cell_type": "markdown",
     "metadata": {},
     "source": [
      "<img src=\"files/images/SynapseLogo.jpg\" width=\"200\" height=\"260\" align=\"left\"/>\n",
      "\n",
      "<br>\n",
      "<br>\n",
      "### Tutorial 1. Introduction to Synapse Python API\n",
      "* For detailed hands on instructions using python API please visit [getting started guide](https://www.synapse.org/#!Synapse:syn1768504)\n",
      "* If you have any questions about python API please feel free to post them on the [python API forum](http://support.sagebase.org/sagebase/products/sagebase_synapse_python_client)"
     ]
    },
    {
     "cell_type": "code",
     "collapsed": false,
     "input": [
      "1 + 1"
     ],
     "language": "python",
     "metadata": {},
     "outputs": [
      {
       "metadata": {},
       "output_type": "pyout",
       "prompt_number": 4,
       "text": [
        "2"
       ]
      }
     ],
     "prompt_number": 4
    },
    {
     "cell_type": "code",
     "collapsed": false,
     "input": [
      "#import the synapse python API\n",
      "import synapseclient\n",
      "from synapseclient import Wiki, File, Project, Folder\n",
      "\n",
      "%run 'synapse_demo_utils_functions.ipynb'"
     ],
     "language": "python",
     "metadata": {},
     "outputs": [],
     "prompt_number": 7
    },
    {
     "cell_type": "markdown",
     "metadata": {},
     "source": [
      "#### 1. Login to synapse using the API"
     ]
    },
    {
     "cell_type": "code",
     "collapsed": false,
     "input": [
      "#login using locally stored credentials\n",
      "syn = synapseclient.login()"
     ],
     "language": "python",
     "metadata": {},
     "outputs": []
    },
    {
     "cell_type": "markdown",
     "metadata": {},
     "source": [
      "### Project and Data Management on Synapse\n",
      "#### 2. Create a new project on synapse\n",
      "\n",
      "<img src=\"files/images/project_1.png\" width=\"400\" height=\"250\" align=\"left\"/>\n"
     ]
    },
    {
     "cell_type": "code",
     "collapsed": false,
     "input": [
      "myProj = Project(name='Cell Lines Analysis %s' % randomword(5))\n",
      "myProj = syn.store(myProj)\n",
      "print 'Created project with synapse id: %s' % myProj.id"
     ],
     "language": "python",
     "metadata": {},
     "outputs": []
    },
    {
     "cell_type": "markdown",
     "metadata": {},
     "source": [
      "### 2.1 Alternatively start with a project created from the synapse website"
     ]
    },
    {
     "cell_type": "code",
     "collapsed": false,
     "input": [
      "#this project was created on synapse website\n",
      "#myProj = 'synXXX'\n",
      "#myProj = syn.get(myProj)"
     ],
     "language": "python",
     "metadata": {},
     "outputs": [],
     "prompt_number": 9
    },
    {
     "cell_type": "markdown",
     "metadata": {},
     "source": [
      "#### 3. Create a Project Wiki\n",
      "\n",
      "<img src=\"files/images/project_2.png\" width=\"400\" height=\"250\" align=\"left\"/>\n"
     ]
    },
    {
     "cell_type": "code",
     "collapsed": false,
     "input": [
      "projWiki = Wiki(title='Data Summary', owner = myProj )    "
     ],
     "language": "python",
     "metadata": {},
     "outputs": [],
     "prompt_number": 10
    },
    {
     "cell_type": "markdown",
     "metadata": {},
     "source": [
      "#### 4. Push text content into a Wiki\n",
      "<img src=\"files/images/project_3.png\" width=\"400\" height=\"250\" align=\"left\"/>\n"
     ]
    },
    {
     "cell_type": "code",
     "collapsed": false,
     "input": [
      "markdown = '''\n",
      "* Cell growth look normally distributed\n",
      "\n",
      "* There is evidence of inverse growth between these two cell lines \n",
      "'''\n",
      "projWiki['markdown'] = markdown\n",
      "projWiki = syn.store(projWiki)"
     ],
     "language": "python",
     "metadata": {},
     "outputs": [],
     "prompt_number": 11
    },
    {
     "cell_type": "markdown",
     "metadata": {},
     "source": [
      "#### 5. Organizing Data: creating folder & file entities\n",
      "\n",
      "<img src=\"files/images/project_4.png\" width=\"400\" height=\"250\" align=\"left\"/>\n"
     ]
    },
    {
     "cell_type": "code",
     "collapsed": false,
     "input": [
      "results_folder = Folder(name='results', parent=myProj)\n",
      "results_folder = syn.store(results_folder)\n",
      "\n",
      "raw_data_file = File(\"data/cell_lines_raw_data.csv\", parent=results_folder)\n",
      "raw_data_file = syn.store(raw_data_file)"
     ],
     "language": "python",
     "metadata": {},
     "outputs": [
      {
       "output_type": "stream",
       "stream": "stdout",
       "text": [
        "."
       ]
      },
      {
       "output_type": "stream",
       "stream": "stdout",
       "text": [
        "."
       ]
      },
      {
       "output_type": "stream",
       "stream": "stdout",
       "text": [
        ","
       ]
      },
      {
       "output_type": "stream",
       "stream": "stdout",
       "text": [
        "!"
       ]
      },
      {
       "output_type": "stream",
       "stream": "stdout",
       "text": [
        "!\n"
       ]
      },
      {
       "output_type": "stream",
       "stream": "stdout",
       "text": [
        "Upload completed in 3 seconds.\n"
       ]
      }
     ],
     "prompt_number": 12
    },
    {
     "cell_type": "markdown",
     "metadata": {},
     "source": [
      "#### 5.1 Upload a plot\n",
      "<img src=\"files/images/plot_1.png\" width=\"200\" height=\"260\" align=\"left\"/>"
     ]
    },
    {
     "cell_type": "code",
     "collapsed": false,
     "input": [
      "plot1 = File(\"images/plot_1.png\", parent=results_folder)\n",
      "plot1 = syn.store(plot1)"
     ],
     "language": "python",
     "metadata": {},
     "outputs": [
      {
       "output_type": "stream",
       "stream": "stdout",
       "text": [
        "."
       ]
      },
      {
       "output_type": "stream",
       "stream": "stdout",
       "text": [
        "."
       ]
      },
      {
       "output_type": "stream",
       "stream": "stdout",
       "text": [
        ","
       ]
      },
      {
       "output_type": "stream",
       "stream": "stdout",
       "text": [
        "!"
       ]
      },
      {
       "output_type": "stream",
       "stream": "stdout",
       "text": [
        "!\n"
       ]
      },
      {
       "output_type": "stream",
       "stream": "stdout",
       "text": [
        "Upload completed in 3 seconds.\n"
       ]
      }
     ],
     "prompt_number": 13
    },
    {
     "cell_type": "markdown",
     "metadata": {},
     "source": [
      "### Let's check what we have done till now"
     ]
    },
    {
     "cell_type": "code",
     "collapsed": false,
     "input": [
      "syn.onweb(myProj)"
     ],
     "language": "python",
     "metadata": {},
     "outputs": [],
     "prompt_number": 15
    },
    {
     "cell_type": "markdown",
     "metadata": {},
     "source": [
      "####4.2 Keeping track of our analysis: Provenance\n",
      "<img src=\"files/images/project_5.png\" width=\"300\" height=\"250\" align=\"left\"/>"
     ]
    },
    {
     "cell_type": "code",
     "collapsed": false,
     "input": [
      "used_data = [raw_data_file]\n",
      "code = ['https://github.com/Sage-Bionetworks/synapseTutorials']\n",
      "\n",
      "plot2 = File(\"images/plot_2.png\", parent=results_folder)\n",
      "plot2 = syn.store(plot2, used=used_data, executed=code)"
     ],
     "language": "python",
     "metadata": {},
     "outputs": [],
     "prompt_number": 17
    },
    {
     "cell_type": "code",
     "collapsed": false,
     "input": [
      "syn.onweb(plot2)"
     ],
     "language": "python",
     "metadata": {},
     "outputs": [],
     "prompt_number": 19
    },
    {
     "cell_type": "markdown",
     "metadata": {},
     "source": [
      "#### 5. Finally: clean up \n",
      "_(only because this was a demo)_"
     ]
    },
    {
     "cell_type": "code",
     "collapsed": false,
     "input": [
      "syn.delete(myProj)"
     ],
     "language": "python",
     "metadata": {},
     "outputs": [],
     "prompt_number": 20
    }
   ],
   "metadata": {}
  }
 ]
}