{
 "metadata": {
  "name": "",
  "signature": "sha256:070ef723af6583c3cbbba1c50100a829ef58c7048eed29908e54edbe7ba4579d"
 },
 "nbformat": 3,
 "nbformat_minor": 0,
 "worksheets": [
  {
   "cells": [
    {
     "cell_type": "markdown",
     "metadata": {},
     "source": [
      "#Cancer Survival Prediction\n",
      "We will use data that is part of an open challenge to predict survival in cancer patients from within the Cancer Genome Atlas (TCGA).  For details please see Yin Yin et al in Nature Biotechnology.  Also please consider improving on the model to derive a better predictor of survival."
     ]
    },
    {
     "cell_type": "code",
     "collapsed": false,
     "input": [
      "import os\n",
      "import pandas as pd\n",
      "import numpy as np\n",
      "import synapseclient\n",
      "from lifelines.estimation import AalenAdditiveFitter\n",
      "import patsy\n",
      "syn = synapseclient.login()"
     ],
     "language": "python",
     "metadata": {},
     "outputs": []
    },
    {
     "cell_type": "markdown",
     "metadata": {},
     "source": [
      "###Download data from Synapse and Load into Data Frames\n",
      "Data in Synapse is referenced by accession identifiers.  Here we define some of the identifiers that refer to data we will be using bellow.  It is possible to extract these identifiers by using the ```syn.query``` command that takes a sql like query (see ?)"
     ]
    },
    {
     "cell_type": "code",
     "collapsed": false,
     "input": [
      "ACRONYM = 'KIRC'                #Kidney Renal Clear Carcinoma\n",
      "trainLabelsId = 'syn1714093'   # Training bootstraps for KIRC\n",
      "testLabelsId = 'syn1714090'    # Testing boostraps for KIRC\n",
      "#dataId = 'syn1710306'          # for RPPA KIRC data\n",
      "survivalDataId = 'syn1710303'\n",
      "clinicalDataId = 'syn1715824'"
     ],
     "language": "python",
     "metadata": {},
     "outputs": []
    },
    {
     "cell_type": "markdown",
     "metadata": {},
     "source": [
      "We will start by fetching the labels of the training set and testing set.  Fetching from synapse is done with ```syn.get``` given a synapse identifier such as 'syn123'.  The returned object contains information about the file in addition to the locatione where it is cached in the path variable that we use here to read the data into a pandas dataframe."
     ]
    },
    {
     "cell_type": "code",
     "collapsed": false,
     "input": [
      "#Download bootstrap labels\n",
      "testLabels = pd.read_csv(syn.get(testLabelsId).path, sep='\\t', header=None)\n",
      "trainLabels = pd.read_csv(syn.get(trainLabelsId).path, sep='\\t', header=None)"
     ],
     "language": "python",
     "metadata": {},
     "outputs": []
    },
    {
     "cell_type": "markdown",
     "metadata": {},
     "source": [
      "We will also fetch the clinical covariates and survival data and read those into dataframes as well."
     ]
    },
    {
     "cell_type": "code",
     "collapsed": false,
     "input": [
      "survival=pd.read_csv(syn.get(survivalDataId).path, '\\t', index_col=0)\n",
      "clinical=pd.read_csv(syn.get(clinicalDataId).path, '\\t', index_col=0, na_values=['[Not Available]'])\n",
      "clinical = pd.concat([survival.ix[:, :-1], clinical.ix[:,:-1]], axis=1)\n",
      "clinical.head()"
     ],
     "language": "python",
     "metadata": {},
     "outputs": []
    },
    {
     "cell_type": "markdown",
     "metadata": {},
     "source": [
      "##Use Lifelines package to model surivival curves\n",
      "We will use the Using a Aallen's additive model to estimate the survival times in the testing set using a model built from a training set using 100 fold sub-sampling of the data. "
     ]
    },
    {
     "cell_type": "code",
     "collapsed": false,
     "input": [
      "#Go through each training testing monteCarlo sampling and train/predict\n",
      "predictions=[]\n",
      "for i in range(trainLabels.shape[1]):\n",
      "    X = patsy.dmatrix('age + grade + stage -1', clinical, return_type='dataframe')\n",
      "    X['T'] = clinical['OS_OS']\n",
      "    X['C'] = clinical['OS_vital_status']\n",
      "    \n",
      "    trainX = X.ix[trainLabels[i],:].reset_index()\n",
      "    testX = X.ix[testLabels[i],:].reset_index()\n",
      "\n",
      "    #Build model and train\n",
      "    aaf = AalenAdditiveFitter(penalizer=1., fit_intercept=True)\n",
      "    aaf.fit(trainX.drop(['index'], axis=1), duration_col='T', event_col='C',show_progress=False)\n",
      "    #Predict on testing data\n",
      "    median = aaf.predict_median(testX.drop(['T','C', 'index'], axis=1))\n",
      "    median.index = testX['index']\n",
      "    predictions.append(median.replace([np.inf, -np.inf, np.nan], 0))"
     ],
     "language": "python",
     "metadata": {},
     "outputs": []
    },
    {
     "cell_type": "markdown",
     "metadata": {},
     "source": [
      "###Saving Results to Synapse and ask Synapse to evaluate our predictions\n",
      "To document what we have done we will start by storing this code in Synapse as a file Entity."
     ]
    },
    {
     "cell_type": "code",
     "collapsed": false,
     "input": [
      "codeEntity = synapseclient.File('tcga_survival_analysis.py', parentId='syn1720423')\n",
      "codeEntity = syn.store(codeEntity)"
     ],
     "language": "python",
     "metadata": {},
     "outputs": []
    },
    {
     "cell_type": "markdown",
     "metadata": {},
     "source": [
      "We then save the predictions we made to a file and create a file Entity for it."
     ]
    },
    {
     "cell_type": "code",
     "collapsed": false,
     "input": [
      "#Save predictions to file\n",
      "predictions = np.asarray(predictions).T\n",
      "np.savetxt('predictions.csv', predictions, fmt='%.4g', delimiter='\\t')\n",
      "results = synapseclient.File('predictions.csv', name='KIRC Aallens additive clinical model', parentId='syn1720419')"
     ],
     "language": "python",
     "metadata": {},
     "outputs": []
    },
    {
     "cell_type": "markdown",
     "metadata": {},
     "source": [
      "We can the annotate the file Entity with more information such as the model we used, the input data we used (or any key-values we chose).  For this specific project it is required that dataType and cancer are specified otherwise Synapse will not evaluate the predictions."
     ]
    },
    {
     "cell_type": "code",
     "collapsed": false,
     "input": [
      "results.cancer = ACRONYM\n",
      "results.dataType = 'clinical'\n",
      "results.method = 'Aallen additive model'\n",
      "results.normalization = 'None'\n",
      "results.featureSelection='None'\n",
      "results.clinicalUsed = 'Yes'"
     ],
     "language": "python",
     "metadata": {},
     "outputs": []
    },
    {
     "cell_type": "markdown",
     "metadata": {},
     "source": [
      "Finnaly we push the file Entity to Synapse.  Here we use the used and executed parameters to specify the provenance of the entity as well.  This will be displayed as a provenance graph on the entity page."
     ]
    },
    {
     "cell_type": "code",
     "collapsed": false,
     "input": [
      "results = syn.store(results,  used=[trainLabelsId, testLabelsId, survivalDataId], executed=[codeEntity])"
     ],
     "language": "python",
     "metadata": {},
     "outputs": []
    },
    {
     "cell_type": "markdown",
     "metadata": {},
     "source": [
      "Finally we tell Synapse that we would like it to \"score\" the predictions by submitting the entity to an evaluation. "
     ]
    },
    {
     "cell_type": "code",
     "collapsed": false,
     "input": [
      "submission=syn.submit(1876290, results)"
     ],
     "language": "python",
     "metadata": {},
     "outputs": []
    },
    {
     "cell_type": "markdown",
     "metadata": {},
     "source": [
      "Lets check our submission on [leaderboard](https://www.synapse.org/#!Wiki:1876290/EVALUATION/55678)"
     ]
    }
   ],
   "metadata": {}
  }
 ]
}