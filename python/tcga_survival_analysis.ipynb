{
 "metadata": {
  "name": ""
 },
 "nbformat": 3,
 "nbformat_minor": 0,
 "worksheets": [
  {
   "cells": [
    {
     "cell_type": "code",
     "collapsed": false,
     "input": [
      "import os\n",
      "import pandas as pd\n",
      "import synapseclient\n",
      "from lifelines.estimation import AalenAdditiveFitter\n",
      "import patsy\n",
      "syn = synapseclient.login()\n",
      "\n",
      "ACRONYM = 'GBM'\n",
      "trainLabelsId = 'syn1714087'   # Training bootstraps for GBM\n",
      "testLabelsId = 'syn1714083'    # Testing boostraps for GBM\n",
      "dataId = 'syn1710368'          # for miRNA GBM data\n",
      "survivalDataId = 'syn1710370'\n",
      "clinicalDataId = 'syn1715822'\n",
      "\n",
      "ACRONYM = 'KIRC'\n",
      "trainLabelsId = 'syn1714093'   # Training bootstraps for KIRC\n",
      "testLabelsId = 'syn1714090'    # Testing boostraps for KIRC\n",
      "dataId = 'syn1710306'          # for RPPA KIRC data\n",
      "survivalDataId = 'syn1710303'\n",
      "clinicalDataId = 'syn1715824'\n"
     ],
     "language": "python",
     "metadata": {},
     "outputs": [
      {
       "output_type": "stream",
       "stream": "stderr",
       "text": [
        "Welcome, larsson.omberg@sagebase.org!\n"
       ]
      }
     ],
     "prompt_number": 28
    },
    {
     "cell_type": "markdown",
     "metadata": {},
     "source": [
      "###Download data from Synapse and Load into Data Frames"
     ]
    },
    {
     "cell_type": "code",
     "collapsed": false,
     "input": [
      "#Download bootstrap labels\n",
      "testLabels = pd.read_csv(syn.get(testLabelsId).path, sep='\\t', header=None)\n",
      "trainLabels = pd.read_csv(syn.get(trainLabelsId).path, sep='\\t', header=None)\n",
      "\n",
      "#Download specific data\n",
      "data = pd.read_csv(syn.get(dataId).path, sep='\\t', index_col=0)\n",
      "\n",
      "#Download and extract the survival data\n",
      "survival=pd.read_csv(syn.get(survivalDataId).path, '\\t', index_col=0)\n",
      "clinical=pd.read_csv(syn.get(clinicalDataId).path, '\\t', index_col=0, na_values=['[Not Available]'])\n",
      "clinical = pd.concat([survival.ix[:, :-1], clinical.ix[:,:-1]], axis=1)\n",
      "clinical.head()"
     ],
     "language": "python",
     "metadata": {},
     "outputs": [
      {
       "html": [
        "<div style=\"max-height:1000px;max-width:1500px;overflow:auto;\">\n",
        "<table border=\"1\" class=\"dataframe\">\n",
        "  <thead>\n",
        "    <tr style=\"text-align: right;\">\n",
        "      <th></th>\n",
        "      <th>OS_OS</th>\n",
        "      <th>OS_vital_status</th>\n",
        "      <th>age</th>\n",
        "      <th>gender</th>\n",
        "      <th>grade</th>\n",
        "      <th>stage</th>\n",
        "    </tr>\n",
        "    <tr>\n",
        "      <th>feature</th>\n",
        "      <th></th>\n",
        "      <th></th>\n",
        "      <th></th>\n",
        "      <th></th>\n",
        "      <th></th>\n",
        "      <th></th>\n",
        "    </tr>\n",
        "  </thead>\n",
        "  <tbody>\n",
        "    <tr>\n",
        "      <th>TCGA-CJ-6033</th>\n",
        "      <td>  224</td>\n",
        "      <td> 1</td>\n",
        "      <td> 54</td>\n",
        "      <td> FEMALE</td>\n",
        "      <td> G4</td>\n",
        "      <td> Stage IV</td>\n",
        "    </tr>\n",
        "    <tr>\n",
        "      <th>TCGA-CJ-6032</th>\n",
        "      <td> 2548</td>\n",
        "      <td> 0</td>\n",
        "      <td> 63</td>\n",
        "      <td> FEMALE</td>\n",
        "      <td> G3</td>\n",
        "      <td> Stage II</td>\n",
        "    </tr>\n",
        "    <tr>\n",
        "      <th>TCGA-CJ-6031</th>\n",
        "      <td> 1905</td>\n",
        "      <td> 0</td>\n",
        "      <td> 54</td>\n",
        "      <td>   MALE</td>\n",
        "      <td> G3</td>\n",
        "      <td>  Stage I</td>\n",
        "    </tr>\n",
        "    <tr>\n",
        "      <th>TCGA-CJ-6030</th>\n",
        "      <td> 2298</td>\n",
        "      <td> 1</td>\n",
        "      <td> 65</td>\n",
        "      <td>   MALE</td>\n",
        "      <td> G3</td>\n",
        "      <td>  Stage I</td>\n",
        "    </tr>\n",
        "    <tr>\n",
        "      <th>TCGA-B8-4622</th>\n",
        "      <td>  181</td>\n",
        "      <td> 0</td>\n",
        "      <td> 57</td>\n",
        "      <td>   MALE</td>\n",
        "      <td> G3</td>\n",
        "      <td> Stage IV</td>\n",
        "    </tr>\n",
        "  </tbody>\n",
        "</table>\n",
        "<p>5 rows \u00d7 6 columns</p>\n",
        "</div>"
       ],
       "metadata": {},
       "output_type": "pyout",
       "prompt_number": 29,
       "text": [
        "              OS_OS  OS_vital_status  age  gender grade     stage\n",
        "feature                                                          \n",
        "TCGA-CJ-6033    224                1   54  FEMALE    G4  Stage IV\n",
        "TCGA-CJ-6032   2548                0   63  FEMALE    G3  Stage II\n",
        "TCGA-CJ-6031   1905                0   54    MALE    G3   Stage I\n",
        "TCGA-CJ-6030   2298                1   65    MALE    G3   Stage I\n",
        "TCGA-B8-4622    181                0   57    MALE    G3  Stage IV\n",
        "\n",
        "[5 rows x 6 columns]"
       ]
      }
     ],
     "prompt_number": 29
    },
    {
     "cell_type": "markdown",
     "metadata": {},
     "source": [
      "##Use Lifelines package to model surivival curves\n",
      "Using a Aallen's additive model to estimate the survival times using specific set of markers"
     ]
    },
    {
     "cell_type": "code",
     "collapsed": false,
     "input": [
      "#Go through each training testing monteCarlo sampling and train/predict\n",
      "predictions=[]\n",
      "aaf = AalenAdditiveFitter(penalizer=1., fit_intercept=True)\n",
      "\n",
      "for i in range(trainLabels.shape[1]):\n",
      "    trainData = data.ix[trainLabels[i],:]\n",
      "    trainClinical = clinical.ix[trainLabels[i],:]\n",
      "    testData = data.ix[testLabels[i],:]\n",
      "    testClinical = clinical.ix[testLabels[i],:]\n",
      "    \n",
      "    #Build model and train\n",
      "    X = patsy.dmatrix('age + grade + stage -1', trainClinical, return_type='dataframe')\n",
      "    X['T'] = trainClinical['OS_OS']\n",
      "    X['C'] = trainClinical['OS_vital_status']\n",
      "    aaf.fit(X, duration_col='T', event_col='C',show_progress=False)\n",
      "    #aaf.fit(trainClinical[['OS_OS', 'age', 'OS_vital_status']], duration_col='OS_OS', event_col='OS_vital_status',show_progress=False)\n",
      "    \n",
      "    median = aaf.predict_median(testClinical[['age']])\n",
      "    predictions.append(median.replace([np.inf, -np.inf, np.nan], 0))"
     ],
     "language": "python",
     "metadata": {},
     "outputs": [
      {
       "ename": "ValueError",
       "evalue": "matrices are not aligned",
       "output_type": "pyerr",
       "traceback": [
        "\u001b[0;31m---------------------------------------------------------------------------\u001b[0m\n\u001b[0;31mValueError\u001b[0m                                Traceback (most recent call last)",
        "\u001b[0;32m<ipython-input-43-33e39d5c8b58>\u001b[0m in \u001b[0;36m<module>\u001b[0;34m()\u001b[0m\n\u001b[1;32m     16\u001b[0m     \u001b[0;31m#aaf.fit(trainClinical[['OS_OS', 'age', 'OS_vital_status']], duration_col='OS_OS', event_col='OS_vital_status',show_progress=False)\u001b[0m\u001b[0;34m\u001b[0m\u001b[0;34m\u001b[0m\u001b[0m\n\u001b[1;32m     17\u001b[0m \u001b[0;34m\u001b[0m\u001b[0m\n\u001b[0;32m---> 18\u001b[0;31m     \u001b[0mmedian\u001b[0m \u001b[0;34m=\u001b[0m \u001b[0maaf\u001b[0m\u001b[0;34m.\u001b[0m\u001b[0mpredict_median\u001b[0m\u001b[0;34m(\u001b[0m\u001b[0mtestClinical\u001b[0m\u001b[0;34m[\u001b[0m\u001b[0;34m[\u001b[0m\u001b[0;34m'age'\u001b[0m\u001b[0;34m]\u001b[0m\u001b[0;34m]\u001b[0m\u001b[0;34m)\u001b[0m\u001b[0;34m\u001b[0m\u001b[0m\n\u001b[0m\u001b[1;32m     19\u001b[0m     \u001b[0mpredictions\u001b[0m\u001b[0;34m.\u001b[0m\u001b[0mappend\u001b[0m\u001b[0;34m(\u001b[0m\u001b[0mmedian\u001b[0m\u001b[0;34m.\u001b[0m\u001b[0mreplace\u001b[0m\u001b[0;34m(\u001b[0m\u001b[0;34m[\u001b[0m\u001b[0mnp\u001b[0m\u001b[0;34m.\u001b[0m\u001b[0minf\u001b[0m\u001b[0;34m,\u001b[0m \u001b[0;34m-\u001b[0m\u001b[0mnp\u001b[0m\u001b[0;34m.\u001b[0m\u001b[0minf\u001b[0m\u001b[0;34m,\u001b[0m \u001b[0mnp\u001b[0m\u001b[0;34m.\u001b[0m\u001b[0mnan\u001b[0m\u001b[0;34m]\u001b[0m\u001b[0;34m,\u001b[0m \u001b[0;36m0\u001b[0m\u001b[0;34m)\u001b[0m\u001b[0;34m)\u001b[0m\u001b[0;34m\u001b[0m\u001b[0m\n",
        "\u001b[0;32m/usr/local/lib/python2.7/site-packages/lifelines/estimation.py\u001b[0m in \u001b[0;36mpredict_median\u001b[0;34m(self, X)\u001b[0m\n\u001b[1;32m    719\u001b[0m         \u001b[0mReturns\u001b[0m \u001b[0mthe\u001b[0m \u001b[0mmedian\u001b[0m \u001b[0mlifetimes\u001b[0m \u001b[0;32mfor\u001b[0m \u001b[0mthe\u001b[0m \u001b[0mindividuals\u001b[0m\u001b[0;34m\u001b[0m\u001b[0m\n\u001b[1;32m    720\u001b[0m         \"\"\"\n\u001b[0;32m--> 721\u001b[0;31m         \u001b[0;32mreturn\u001b[0m \u001b[0mmedian_survival_times\u001b[0m\u001b[0;34m(\u001b[0m\u001b[0mself\u001b[0m\u001b[0;34m.\u001b[0m\u001b[0mpredict_survival_function\u001b[0m\u001b[0;34m(\u001b[0m\u001b[0mX\u001b[0m\u001b[0;34m)\u001b[0m\u001b[0;34m)\u001b[0m\u001b[0;34m\u001b[0m\u001b[0m\n\u001b[0m\u001b[1;32m    722\u001b[0m \u001b[0;34m\u001b[0m\u001b[0m\n\u001b[1;32m    723\u001b[0m     \u001b[0;32mdef\u001b[0m \u001b[0mpredict_expectation\u001b[0m\u001b[0;34m(\u001b[0m\u001b[0mself\u001b[0m\u001b[0;34m,\u001b[0m \u001b[0mX\u001b[0m\u001b[0;34m)\u001b[0m\u001b[0;34m:\u001b[0m\u001b[0;34m\u001b[0m\u001b[0m\n",
        "\u001b[0;32m/usr/local/lib/python2.7/site-packages/lifelines/estimation.py\u001b[0m in \u001b[0;36mpredict_survival_function\u001b[0;34m(self, X, columns)\u001b[0m\n\u001b[1;32m    712\u001b[0m         \u001b[0mReturns\u001b[0m \u001b[0mthe\u001b[0m \u001b[0msurvival\u001b[0m \u001b[0mfunctions\u001b[0m \u001b[0;32mfor\u001b[0m \u001b[0mthe\u001b[0m \u001b[0mindividuals\u001b[0m\u001b[0;34m\u001b[0m\u001b[0m\n\u001b[1;32m    713\u001b[0m         \"\"\"\n\u001b[0;32m--> 714\u001b[0;31m         \u001b[0;32mreturn\u001b[0m \u001b[0mnp\u001b[0m\u001b[0;34m.\u001b[0m\u001b[0mexp\u001b[0m\u001b[0;34m(\u001b[0m\u001b[0;34m-\u001b[0m\u001b[0mself\u001b[0m\u001b[0;34m.\u001b[0m\u001b[0mpredict_cumulative_hazard\u001b[0m\u001b[0;34m(\u001b[0m\u001b[0mX\u001b[0m\u001b[0;34m,\u001b[0m \u001b[0mcolumns\u001b[0m\u001b[0;34m=\u001b[0m\u001b[0mcolumns\u001b[0m\u001b[0;34m)\u001b[0m\u001b[0;34m)\u001b[0m\u001b[0;34m\u001b[0m\u001b[0m\n\u001b[0m\u001b[1;32m    715\u001b[0m \u001b[0;34m\u001b[0m\u001b[0m\n\u001b[1;32m    716\u001b[0m     \u001b[0;32mdef\u001b[0m \u001b[0mpredict_median\u001b[0m\u001b[0;34m(\u001b[0m\u001b[0mself\u001b[0m\u001b[0;34m,\u001b[0m \u001b[0mX\u001b[0m\u001b[0;34m)\u001b[0m\u001b[0;34m:\u001b[0m\u001b[0;34m\u001b[0m\u001b[0m\n",
        "\u001b[0;32m/usr/local/lib/python2.7/site-packages/lifelines/estimation.py\u001b[0m in \u001b[0;36mpredict_cumulative_hazard\u001b[0;34m(self, X, columns, id_col)\u001b[0m\n\u001b[1;32m    704\u001b[0m             \u001b[0mX_\u001b[0m \u001b[0;34m=\u001b[0m \u001b[0mX\u001b[0m\u001b[0;34m.\u001b[0m\u001b[0mcopy\u001b[0m\u001b[0;34m(\u001b[0m\u001b[0;34m)\u001b[0m\u001b[0;34m\u001b[0m\u001b[0m\n\u001b[1;32m    705\u001b[0m         \u001b[0mX_\u001b[0m \u001b[0;34m=\u001b[0m \u001b[0mX\u001b[0m\u001b[0;34m.\u001b[0m\u001b[0mcopy\u001b[0m\u001b[0;34m(\u001b[0m\u001b[0;34m)\u001b[0m \u001b[0;32mif\u001b[0m \u001b[0;32mnot\u001b[0m \u001b[0mself\u001b[0m\u001b[0;34m.\u001b[0m\u001b[0mfit_intercept\u001b[0m \u001b[0;32melse\u001b[0m \u001b[0mnp\u001b[0m\u001b[0;34m.\u001b[0m\u001b[0mc_\u001b[0m\u001b[0;34m[\u001b[0m\u001b[0mX\u001b[0m\u001b[0;34m.\u001b[0m\u001b[0mcopy\u001b[0m\u001b[0;34m(\u001b[0m\u001b[0;34m)\u001b[0m\u001b[0;34m,\u001b[0m \u001b[0mnp\u001b[0m\u001b[0;34m.\u001b[0m\u001b[0mones\u001b[0m\u001b[0;34m(\u001b[0m\u001b[0;34m(\u001b[0m\u001b[0mn\u001b[0m\u001b[0;34m,\u001b[0m \u001b[0;36m1\u001b[0m\u001b[0;34m)\u001b[0m\u001b[0;34m)\u001b[0m\u001b[0;34m]\u001b[0m\u001b[0;34m\u001b[0m\u001b[0m\n\u001b[0;32m--> 706\u001b[0;31m         \u001b[0;32mreturn\u001b[0m \u001b[0mpd\u001b[0m\u001b[0;34m.\u001b[0m\u001b[0mDataFrame\u001b[0m\u001b[0;34m(\u001b[0m\u001b[0mnp\u001b[0m\u001b[0;34m.\u001b[0m\u001b[0mdot\u001b[0m\u001b[0;34m(\u001b[0m\u001b[0mself\u001b[0m\u001b[0;34m.\u001b[0m\u001b[0mcumulative_hazards_\u001b[0m\u001b[0;34m,\u001b[0m \u001b[0mX_\u001b[0m\u001b[0;34m.\u001b[0m\u001b[0mT\u001b[0m\u001b[0;34m)\u001b[0m\u001b[0;34m,\u001b[0m \u001b[0mindex\u001b[0m\u001b[0;34m=\u001b[0m\u001b[0mself\u001b[0m\u001b[0;34m.\u001b[0m\u001b[0mtimeline\u001b[0m\u001b[0;34m,\u001b[0m \u001b[0mcolumns\u001b[0m\u001b[0;34m=\u001b[0m\u001b[0mcolumns\u001b[0m\u001b[0;34m)\u001b[0m\u001b[0;34m\u001b[0m\u001b[0m\n\u001b[0m\u001b[1;32m    707\u001b[0m \u001b[0;34m\u001b[0m\u001b[0m\n\u001b[1;32m    708\u001b[0m     \u001b[0;32mdef\u001b[0m \u001b[0mpredict_survival_function\u001b[0m\u001b[0;34m(\u001b[0m\u001b[0mself\u001b[0m\u001b[0;34m,\u001b[0m \u001b[0mX\u001b[0m\u001b[0;34m,\u001b[0m \u001b[0mcolumns\u001b[0m\u001b[0;34m=\u001b[0m\u001b[0mNone\u001b[0m\u001b[0;34m)\u001b[0m\u001b[0;34m:\u001b[0m\u001b[0;34m\u001b[0m\u001b[0m\n",
        "\u001b[0;31mValueError\u001b[0m: matrices are not aligned"
       ]
      }
     ],
     "prompt_number": 43
    },
    {
     "cell_type": "code",
     "collapsed": false,
     "input": [
      "#Save predictions to file\n",
      "predictions = np.asarray(predictions).T\n",
      "np.savetxt('predictions.csv', predictions, fmt='%.4g', delimiter='\\t')\n",
      "\n",
      "#Save this code object into Synapse\n",
      "codeEntity = synapseclient.File('tcga_survival_analysis.py', parentId='syn1720423')\n",
      "codeEntity = syn.store(codeEntity)\n",
      "\n",
      "#Set annotations and store predictions to Synapse\n",
      "results = synapseclient.File('predictions.csv', name='GBM Aallens additive clinical model', parentId='syn1720419')\n",
      "results.cancer = ACRONYM\n",
      "results.dataType = 'clinical'\n",
      "results.method = 'Aallen additive model'\n",
      "results.normalization = 'None'\n",
      "results.featureSelection='None'\n",
      "results.clinicalUsed = 'Yes'\n",
      "\n",
      "results = syn.store(results,  used=[trainLabelsId, testLabelsId, dataId, survivalDataId], executed=[codeEntity])"
     ],
     "language": "python",
     "metadata": {},
     "outputs": [
      {
       "output_type": "stream",
       "stream": "stdout",
       "text": [
        "."
       ]
      },
      {
       "output_type": "stream",
       "stream": "stdout",
       "text": [
        "."
       ]
      },
      {
       "output_type": "stream",
       "stream": "stdout",
       "text": [
        ","
       ]
      },
      {
       "output_type": "stream",
       "stream": "stdout",
       "text": [
        "!"
       ]
      },
      {
       "output_type": "stream",
       "stream": "stdout",
       "text": [
        "!\n"
       ]
      },
      {
       "output_type": "stream",
       "stream": "stdout",
       "text": [
        "Upload completed in 3 seconds.\n",
        "."
       ]
      },
      {
       "output_type": "stream",
       "stream": "stdout",
       "text": [
        "."
       ]
      },
      {
       "output_type": "stream",
       "stream": "stdout",
       "text": [
        ","
       ]
      },
      {
       "output_type": "stream",
       "stream": "stdout",
       "text": [
        "!"
       ]
      },
      {
       "output_type": "stream",
       "stream": "stdout",
       "text": [
        "!"
       ]
      },
      {
       "output_type": "stream",
       "stream": "stdout",
       "text": [
        "!\n"
       ]
      },
      {
       "output_type": "stream",
       "stream": "stdout",
       "text": [
        "Upload completed in 5 seconds.\n"
       ]
      }
     ],
     "prompt_number": 38
    },
    {
     "cell_type": "code",
     "collapsed": false,
     "input": [
      "#Submit the Results to Leaderboard\n",
      "submission=syn.submit(1876290, results)\n"
     ],
     "language": "python",
     "metadata": {},
     "outputs": [],
     "prompt_number": 39
    }
   ],
   "metadata": {}
  }
 ]
}