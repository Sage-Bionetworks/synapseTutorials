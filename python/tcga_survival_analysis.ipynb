{
 "metadata": {
  "name": ""
 },
 "nbformat": 3,
 "nbformat_minor": 0,
 "worksheets": [
  {
   "cells": [
    {
     "cell_type": "code",
     "collapsed": false,
     "input": [
      "import os\n",
      "import synapseclient\n",
      "syn = synapseclient.login()\n",
      "\n",
      "ACRONYM = 'GBM'\n",
      "trainLabelsId = \"syn1714087\"   # Training bootstraps for GBM\n",
      "testLabelsId = \"syn1714083\"    # Testing boostraps for GBM\n",
      "dataId = \"syn1710368\"          # for miRNA GBM data\n",
      "survivalDataId = 'syn1710370'\n",
      "\n",
      "\n",
      "def readFile(entity, strip=None):\n",
      "    with open(entity.path) as f:\n",
      "        data = np.asarray([l.strip(strip).split('\\t') for l in f])\n",
      "    return data\n",
      "\n",
      "def match(seq1, seq2):\n",
      "    \"\"\"Finds the index locations of seq1 in seq2\"\"\"\n",
      "    return [ np.nonzero(seq2==x)[0][0] for x in seq1  if x in seq2 ]\n",
      "\n"
     ],
     "language": "python",
     "metadata": {},
     "outputs": [
      {
       "output_type": "stream",
       "stream": "stderr",
       "text": [
        "Welcome, larsson.omberg@sagebase.org!\n"
       ]
      }
     ],
     "prompt_number": 1
    },
    {
     "cell_type": "code",
     "collapsed": false,
     "input": [
      "#Download bootstrap labels\n",
      "testLabels = readFile(syn.get(testLabelsId))\n",
      "trainLabels = readFile(syn.get(trainLabelsId))\n",
      "\n",
      "#Download specific data\n",
      "data = readFile(syn.get(dataId))\n",
      "features=data[0,1:]\n",
      "samples=data[1:,0]\n",
      "data=data[1:,1:].astype(np.float).T\n",
      "\n",
      "#Download and extract the survival data\n",
      "survival=readFile(syn.get(survivalDataId), '\\n')\n",
      "survTime = survival[1:,1].astype(np.int)\n",
      "survStatus = survival[1:,2].astype(np.int)\n"
     ],
     "language": "python",
     "metadata": {},
     "outputs": [],
     "prompt_number": 2
    },
    {
     "cell_type": "code",
     "collapsed": false,
     "input": [
      "%load_ext rmagic\n",
      "%R require(survival); require(randomSurvivalForest); require(survcomp)\n",
      "predictions=[]\n",
      "for bootstrapIdx in range(trainLabels.shape[1]):\n",
      "    #Determine Extract the training and testing sets of one bootstrap\n",
      "    trainIdx = match(trainLabels[:,bootstrapIdx], samples)\n",
      "    testIdx = match(testLabels[:,bootstrapIdx], samples)\n",
      "\n",
      "    #Verify that the labels are the same\n",
      "    assert (np.all(trainLabels[:,bootstrapIdx]==samples[trainIdx]) and \n",
      "            np.all(testLabels[:,bootstrapIdx]==samples[testIdx]))\n",
      "\n",
      "    #Exctract traing and testing set\n",
      "    trainData = data[:, trainIdx].T\n",
      "    trainSurvStatus = survStatus[trainIdx]\n",
      "    trainSurvTime = survTime[trainIdx]\n",
      "    testData = data[:, testIdx].T\n",
      "    testSurvStatus = survStatus[testIdx]\n",
      "    testSurvTime = survTime[testIdx]\n",
      "\n",
      "    #Push to R, model and predict\n",
      "    %Rpush trainData trainSurvStatus trainSurvTime testData testSurvStatus testSurvTime\n",
      "    %R rsf.model.fit <- rsf(Surv(time,status) ~ ., data=data.frame(time=trainSurvTime,status=trainSurvStatus, trainData), ntree=1000, na.action=\"na.impute\", splitrule=\"logrank\", nsplit=1, importance=\"randomsplit\", seed=-1)\n",
      "    %R -o predictedResponse predictedResponse <- predict(rsf.model.fit, data.frame(testData), na.action=\"na.impute\")$mortality\n",
      "    #TODO replace this with creating the matrix of results\n",
      "    %R -o concordance concordance <- concordance.index(predictedResponse, testSurvTime, testSurvStatus)$c.index\n",
      "    print concordance\n",
      "    predictions.append(predictedResponse)"
     ],
     "language": "python",
     "metadata": {},
     "outputs": [
      {
       "metadata": {},
       "output_type": "display_data",
       "text": [
        "Loading required package: survival\n",
        "Loading required package: splines\n",
        "Loading required package: randomSurvivalForest\n",
        "\n",
        "randomSurvivalForest 3.6.3\n",
        "\n",
        "Type rsf.news() to see new features, changes, and bug fixes.\n",
        "\n",
        "Loading required package: survcomp\n",
        "Loading required package: prodlim\n",
        "KernSmooth 2.23 loaded\n",
        "Copyright M. P. Wand 1997-2009\n"
       ]
      }
     ],
     "prompt_number": "*"
    },
    {
     "cell_type": "code",
     "collapsed": false,
     "input": [
      "#Save predictions to file\n",
      "predictions = np.asarray(predictions).T\n",
      "np.savetxt('predictions.csv', predictions, fmt='%.4g', delimiter='\\t')\n",
      "\n",
      "\n",
      "#Save this code object into Synapse\n",
      "codeEntity = synapseclient.File('Analyze.ipy', parentId='syn1720423')\n",
      "codeEntity = syn.store(codeEntity)\n",
      "\n",
      "#Set annotations and store predictions to Synapse\n",
      "results = synapseclient.File('predictions.csv', name='Toy random forest model', parentId='syn1720419')\n",
      "results.cancer = ACRONYM\n",
      "results.dataType = 'miRNA'\n",
      "results.method = 'Random Forest'\n",
      "results.normalization = 'None'\n",
      "results.featureSelection='None'\n",
      "results.clinicalUsed = 'No'\n",
      "\n",
      "results = syn.store(results,  used=[trainLabelsId, testLabelsId, dataId, survivalDataId], executed=[codeEntity])"
     ],
     "language": "python",
     "metadata": {},
     "outputs": [],
     "prompt_number": 13
    },
    {
     "cell_type": "code",
     "collapsed": false,
     "input": [
      "#Submit the Results to Leaderboard\n",
      "submission=syn.submit(1876290, results)"
     ],
     "language": "python",
     "metadata": {},
     "outputs": [],
     "prompt_number": 16
    }
   ],
   "metadata": {}
  }
 ]
}