{
 "metadata": {
  "name": ""
 },
 "nbformat": 3,
 "nbformat_minor": 0,
 "worksheets": [
  {
   "cells": [
    {
     "cell_type": "markdown",
     "metadata": {},
     "source": [
      "#Cancer Survival Prediction\n",
      "We will use data that is part of an open challenge to predict survival in cancer patients from within the Cancer Genome Atlas (TCGA).  For details please see Yin Yin et al in Nature Biotechnology.  Also please consider improving on the model to derive a better predictor of survival."
     ]
    },
    {
     "cell_type": "code",
     "collapsed": false,
     "input": [
      "import os\n",
      "import pandas as pd\n",
      "import synapseclient\n",
      "from lifelines.estimation import AalenAdditiveFitter\n",
      "import patsy\n",
      "syn = synapseclient.login()"
     ],
     "language": "python",
     "metadata": {},
     "outputs": [
      {
       "output_type": "stream",
       "stream": "stderr",
       "text": [
        "Welcome, larsson.omberg@sagebase.org!\n"
       ]
      }
     ],
     "prompt_number": 89
    },
    {
     "cell_type": "markdown",
     "metadata": {},
     "source": [
      "###Download data from Synapse and Load into Data Frames\n",
      "Data in Synapse is referenced by accession identifiers.  Here we define some of the identifiers that refer to data we will be using bellow.  It is possible to extract these identifiers by using the ```syn.query``` command that takes a sql like query (see ?)"
     ]
    },
    {
     "cell_type": "code",
     "collapsed": false,
     "input": [
      "ACRONYM = 'KIRC'\n",
      "trainLabelsId = 'syn1714093'   # Training bootstraps for KIRC\n",
      "testLabelsId = 'syn1714090'    # Testing boostraps for KIRC\n",
      "#dataId = 'syn1710306'          # for RPPA KIRC data\n",
      "survivalDataId = 'syn1710303'\n",
      "clinicalDataId = 'syn1715824'"
     ],
     "language": "python",
     "metadata": {},
     "outputs": [],
     "prompt_number": 90
    },
    {
     "cell_type": "markdown",
     "metadata": {},
     "source": [
      "We will start by fetching the labels of the training set and testing set.  Fetching from synapse is done with ```syn.get``` given a synapse identifier such as 'syn123'.  The returned object contains information about the file in addition to the locatione where it is cached in the path variable that we use here to read the data into a pandas dataframe."
     ]
    },
    {
     "cell_type": "code",
     "collapsed": false,
     "input": [
      "#Download bootstrap labels\n",
      "testLabels = pd.read_csv(syn.get(testLabelsId).path, sep='\\t', header=None)\n",
      "trainLabels = pd.read_csv(syn.get(trainLabelsId).path, sep='\\t', header=None)"
     ],
     "language": "python",
     "metadata": {},
     "outputs": [],
     "prompt_number": 91
    },
    {
     "cell_type": "markdown",
     "metadata": {},
     "source": [
      "We will also fetch the clinical covariates and survival data and read those into dataframes as well."
     ]
    },
    {
     "cell_type": "code",
     "collapsed": false,
     "input": [
      "survival=pd.read_csv(syn.get(survivalDataId).path, '\\t', index_col=0)\n",
      "clinical=pd.read_csv(syn.get(clinicalDataId).path, '\\t', index_col=0, na_values=['[Not Available]'])\n",
      "clinical = pd.concat([survival.ix[:, :-1], clinical.ix[:,:-1]], axis=1)\n",
      "clinical.head()"
     ],
     "language": "python",
     "metadata": {},
     "outputs": [
      {
       "html": [
        "<div style=\"max-height:1000px;max-width:1500px;overflow:auto;\">\n",
        "<table border=\"1\" class=\"dataframe\">\n",
        "  <thead>\n",
        "    <tr style=\"text-align: right;\">\n",
        "      <th></th>\n",
        "      <th>OS_OS</th>\n",
        "      <th>OS_vital_status</th>\n",
        "      <th>age</th>\n",
        "      <th>gender</th>\n",
        "      <th>grade</th>\n",
        "      <th>stage</th>\n",
        "    </tr>\n",
        "    <tr>\n",
        "      <th>feature</th>\n",
        "      <th></th>\n",
        "      <th></th>\n",
        "      <th></th>\n",
        "      <th></th>\n",
        "      <th></th>\n",
        "      <th></th>\n",
        "    </tr>\n",
        "  </thead>\n",
        "  <tbody>\n",
        "    <tr>\n",
        "      <th>TCGA-CJ-6033</th>\n",
        "      <td>  224</td>\n",
        "      <td> 1</td>\n",
        "      <td> 54</td>\n",
        "      <td> FEMALE</td>\n",
        "      <td> G4</td>\n",
        "      <td> Stage IV</td>\n",
        "    </tr>\n",
        "    <tr>\n",
        "      <th>TCGA-CJ-6032</th>\n",
        "      <td> 2548</td>\n",
        "      <td> 0</td>\n",
        "      <td> 63</td>\n",
        "      <td> FEMALE</td>\n",
        "      <td> G3</td>\n",
        "      <td> Stage II</td>\n",
        "    </tr>\n",
        "    <tr>\n",
        "      <th>TCGA-CJ-6031</th>\n",
        "      <td> 1905</td>\n",
        "      <td> 0</td>\n",
        "      <td> 54</td>\n",
        "      <td>   MALE</td>\n",
        "      <td> G3</td>\n",
        "      <td>  Stage I</td>\n",
        "    </tr>\n",
        "    <tr>\n",
        "      <th>TCGA-CJ-6030</th>\n",
        "      <td> 2298</td>\n",
        "      <td> 1</td>\n",
        "      <td> 65</td>\n",
        "      <td>   MALE</td>\n",
        "      <td> G3</td>\n",
        "      <td>  Stage I</td>\n",
        "    </tr>\n",
        "    <tr>\n",
        "      <th>TCGA-B8-4622</th>\n",
        "      <td>  181</td>\n",
        "      <td> 0</td>\n",
        "      <td> 57</td>\n",
        "      <td>   MALE</td>\n",
        "      <td> G3</td>\n",
        "      <td> Stage IV</td>\n",
        "    </tr>\n",
        "  </tbody>\n",
        "</table>\n",
        "<p>5 rows \u00d7 6 columns</p>\n",
        "</div>"
       ],
       "metadata": {},
       "output_type": "pyout",
       "prompt_number": 92,
       "text": [
        "              OS_OS  OS_vital_status  age  gender grade     stage\n",
        "feature                                                          \n",
        "TCGA-CJ-6033    224                1   54  FEMALE    G4  Stage IV\n",
        "TCGA-CJ-6032   2548                0   63  FEMALE    G3  Stage II\n",
        "TCGA-CJ-6031   1905                0   54    MALE    G3   Stage I\n",
        "TCGA-CJ-6030   2298                1   65    MALE    G3   Stage I\n",
        "TCGA-B8-4622    181                0   57    MALE    G3  Stage IV\n",
        "\n",
        "[5 rows x 6 columns]"
       ]
      }
     ],
     "prompt_number": 92
    },
    {
     "cell_type": "markdown",
     "metadata": {},
     "source": [
      "##Use Lifelines package to model surivival curves\n",
      "We will use the Using a Aallen's additive model to estimate the survival times in the testing set using a model built from a training set using 100 fold sub-sampling of the data. "
     ]
    },
    {
     "cell_type": "code",
     "collapsed": false,
     "input": [
      "#Go through each training testing monteCarlo sampling and train/predict\n",
      "predictions=[]\n",
      "for i in range(trainLabels.shape[1]):\n",
      "    X = patsy.dmatrix('age + grade + stage -1', clinical, return_type='dataframe')\n",
      "    X['T'] = clinical['OS_OS']\n",
      "    X['C'] = clinical['OS_vital_status']\n",
      "    \n",
      "    trainX = X.ix[trainLabels[i],:]\n",
      "    testX = X.ix[testLabels[i],:]\n",
      "    \n",
      "    #Build model and train\n",
      "    aaf = AalenAdditiveFitter(penalizer=1., fit_intercept=True)\n",
      "    aaf.fit(trainX, duration_col='T', event_col='C',show_progress=False)\n",
      "    #Predict on testing data\n",
      "    median = aaf.predict_median(testX.drop(['T','C'], axis=1))\n",
      "    predictions.append(median.replace([np.inf, -np.inf, np.nan], 0))"
     ],
     "language": "python",
     "metadata": {},
     "outputs": [],
     "prompt_number": 93
    },
    {
     "cell_type": "markdown",
     "metadata": {},
     "source": [
      "###Saving Results to Synapse and ask Synapse to evaluate our predictions\n",
      "To document what we have done we will start by storing this code in Synapse as a file Entity."
     ]
    },
    {
     "cell_type": "code",
     "collapsed": false,
     "input": [
      "codeEntity = synapseclient.File('tcga_survival_analysis.py', parentId='syn1720423')\n",
      "codeEntity = syn.store(codeEntity)"
     ],
     "language": "python",
     "metadata": {},
     "outputs": [
      {
       "output_type": "stream",
       "stream": "stdout",
       "text": [
        "."
       ]
      },
      {
       "output_type": "stream",
       "stream": "stdout",
       "text": [
        "."
       ]
      },
      {
       "output_type": "stream",
       "stream": "stdout",
       "text": [
        ","
       ]
      },
      {
       "output_type": "stream",
       "stream": "stdout",
       "text": [
        "!"
       ]
      },
      {
       "output_type": "stream",
       "stream": "stdout",
       "text": [
        "!"
       ]
      },
      {
       "output_type": "stream",
       "stream": "stdout",
       "text": [
        "!\n"
       ]
      },
      {
       "output_type": "stream",
       "stream": "stdout",
       "text": [
        "Upload completed in 7 seconds.\n"
       ]
      }
     ],
     "prompt_number": 94
    },
    {
     "cell_type": "markdown",
     "metadata": {},
     "source": [
      "We then save the predictions we made to a file and create a file Entity for it."
     ]
    },
    {
     "cell_type": "code",
     "collapsed": false,
     "input": [
      "#Save predictions to file\n",
      "predictions = np.asarray(predictions).T\n",
      "np.savetxt('predictions.csv', predictions, fmt='%.4g', delimiter='\\t')\n",
      "results = synapseclient.File('predictions.csv', name='GBM Aallens additive clinical model', parentId='syn1720419')"
     ],
     "language": "python",
     "metadata": {},
     "outputs": [],
     "prompt_number": 95
    },
    {
     "cell_type": "markdown",
     "metadata": {},
     "source": [
      "We can the annotate the file Entity with more information such as the model we used, the input data we used (or any key-values we chose).  For this specific project it is required that dataType and cancer are specified otherwise Synapse will not evaluate the predictions."
     ]
    },
    {
     "cell_type": "code",
     "collapsed": false,
     "input": [
      "results.cancer = ACRONYM\n",
      "results.dataType = 'clinical'\n",
      "results.method = 'Aallen additive model'\n",
      "results.normalization = 'None'\n",
      "results.featureSelection='None'\n",
      "results.clinicalUsed = 'Yes'"
     ],
     "language": "python",
     "metadata": {},
     "outputs": [],
     "prompt_number": 96
    },
    {
     "cell_type": "markdown",
     "metadata": {},
     "source": [
      "Finnaly we push the file Entity to Synapse.  Here we use the used and executed parameters to specify the provenance of the entity as well.  This will be displayed as a provenance graph on the entity page."
     ]
    },
    {
     "cell_type": "code",
     "collapsed": false,
     "input": [
      "results = syn.store(results,  used=[trainLabelsId, testLabelsId, dataId, survivalDataId], executed=[codeEntity])"
     ],
     "language": "python",
     "metadata": {},
     "outputs": [
      {
       "output_type": "stream",
       "stream": "stdout",
       "text": [
        "."
       ]
      },
      {
       "output_type": "stream",
       "stream": "stdout",
       "text": [
        "."
       ]
      },
      {
       "output_type": "stream",
       "stream": "stdout",
       "text": [
        ","
       ]
      },
      {
       "output_type": "stream",
       "stream": "stdout",
       "text": [
        "!"
       ]
      },
      {
       "output_type": "stream",
       "stream": "stdout",
       "text": [
        "!\n"
       ]
      },
      {
       "output_type": "stream",
       "stream": "stdout",
       "text": [
        "Upload completed in 3 seconds.\n"
       ]
      }
     ],
     "prompt_number": 97
    },
    {
     "cell_type": "markdown",
     "metadata": {},
     "source": [
      "Finally we tell Synapse that we would like it to \"score\" the predictions by submitting the entity to an evaluation."
     ]
    },
    {
     "cell_type": "code",
     "collapsed": false,
     "input": [
      "submission=syn.submit(1876290, results)"
     ],
     "language": "python",
     "metadata": {},
     "outputs": [],
     "prompt_number": 98
    },
    {
     "cell_type": "code",
     "collapsed": false,
     "input": [],
     "language": "python",
     "metadata": {},
     "outputs": []
    }
   ],
   "metadata": {}
  }
 ]
}